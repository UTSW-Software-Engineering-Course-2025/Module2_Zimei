{
 "cells": [
  {
   "cell_type": "code",
   "execution_count": null,
   "id": "a1a0e6de",
   "metadata": {},
   "outputs": [],
   "source": [
    "import os\n",
    "import sys\n",
    "import numpy as np\n",
    "import pandas as pd\n",
    "import matplotlib.pyplot as plt\n",
    "from mpl_toolkits.axes_grid1 import make_axes_locatable\n",
    "import seaborn as sns\n",
    "import itertools\n",
    "import tensorflow as tf\n",
    "import tensorflow.keras\n",
    "import MyImageClass as myimg\n",
    "import copy\n",
    "\n",
    "PATH_TO_DATA = '../../06_DataFiles/oop_data/'"
   ]
  },
  {
   "attachments": {},
   "cell_type": "markdown",
   "id": "b11d73ef",
   "metadata": {},
   "source": [
    "## 1. Numpy\n",
    "Numpy is an extreemly commonly used python package. Its used to work with arrays."
   ]
  },
  {
   "cell_type": "code",
   "execution_count": null,
   "id": "26e8c34c",
   "metadata": {},
   "outputs": [],
   "source": [
    "arrA = np.array([[1,3],[5,7]])\n",
    "arrB = np.array([[10,9],[8,7]])"
   ]
  },
  {
   "cell_type": "code",
   "execution_count": null,
   "id": "62898e0d",
   "metadata": {},
   "outputs": [],
   "source": [
    "arrA+arrB"
   ]
  },
  {
   "cell_type": "code",
   "execution_count": null,
   "id": "32aec739",
   "metadata": {},
   "outputs": [],
   "source": [
    "arrA*arrB"
   ]
  },
  {
   "attachments": {},
   "cell_type": "markdown",
   "id": "aa7301dc",
   "metadata": {},
   "source": [
    "## 2. Example from lecture\n",
    "### 2.1 Color excel image\n",
    "Let's Take a look at an image, and how images are saved as numbers\n",
    "Code here, but show in excel!"
   ]
  },
  {
   "cell_type": "code",
   "execution_count": null,
   "id": "bb67cce1",
   "metadata": {},
   "outputs": [],
   "source": [
    "import PIL\n",
    "from PIL import Image\n",
    "import skimage \n",
    "import skimage.transform"
   ]
  },
  {
   "cell_type": "code",
   "execution_count": null,
   "id": "24f3e887",
   "metadata": {},
   "outputs": [],
   "source": [
    "def fGetColor(val, strColor):\n",
    "    \"\"\"\n",
    "    Given a value and a color, return the hex code for the color\n",
    "    e.g. val=255, strColor='r' will return #ff0000\n",
    "    This is designed for a single colors only\n",
    "    \"\"\"\n",
    "    dctRGB = {'r':0,'g':0,'b':0}\n",
    "    dctRGB[strColor] = int(val)\n",
    "    return fRGBToHex(**dctRGB)\n",
    "    \n",
    "def fRGBToHex(r,g,b):\n",
    "    \"\"\"\n",
    "    inputs r,g,b values 0-255 and outputs the hex color string\n",
    "    \"\"\"\n",
    "    return '#%02x%02x%02x' % (r,g,b)\n",
    "\n",
    "def fColorRows(row):\n",
    "    \"\"\"\n",
    "    given a row from the pandas dataframe, uses the index to determine the color channel\n",
    "    return a list of styling for that row.\n",
    "    \"\"\"\n",
    "    strColorChannel = row.name[0][1]\n",
    "    lColors = [fGetColor(x, strColorChannel) for x in row]    \n",
    "    return ['background-color: {}'.format(color) for color in lColors]"
   ]
  },
  {
   "cell_type": "code",
   "execution_count": null,
   "id": "ae1be62c",
   "metadata": {},
   "outputs": [],
   "source": [
    "#load the image\n",
    "img = np.array(Image.open(PATH_TO_DATA + 'SNs.jpg')).astype(int)\n",
    "#down sample (just to make the data size more manageable)\n",
    "img = np.round(skimage.transform.rescale(img/255, 0.5, channel_axis=2)*255)\n",
    "#split the channels for manipulation and coloration\n",
    "imgR = img[:,:,0]\n",
    "imgG = img[:,:,1]\n",
    "imgB = img[:,:,2]\n",
    "#create pandas dataframes for each channel\n",
    "dfR = pd.DataFrame(imgR).astype(int)\n",
    "dfG = pd.DataFrame(imgG).astype(int)\n",
    "dfB = pd.DataFrame(imgB).astype(int)\n",
    "\n",
    "#Modify the index to hold the color channel name\n",
    "dfR.index = pd.MultiIndex.from_product([['1r'],dfR.index])\n",
    "dfG.index = pd.MultiIndex.from_product([['2g'],dfG.index])\n",
    "dfB.index = pd.MultiIndex.from_product([['3b'],dfB.index])\n",
    "#combine the channles into one dataframe\n",
    "dfConcat = pd.concat([dfR,dfG,dfB])\n",
    "dfConcat = dfConcat.applymap(lambda x: str(x).zfill(3))\n",
    "#dfConcat.applymap(highlight_cells)"
   ]
  },
  {
   "cell_type": "code",
   "execution_count": null,
   "id": "2ce53eba",
   "metadata": {},
   "outputs": [],
   "source": [
    "#output the image (without coloring the cells)\n",
    "dfConcat.sort_index(level=1).to_excel('../OOP/oop_outputs/SNc_numbers.xlsx', index=False, header=False)\n",
    "#output the image (color the cells)\n",
    "dfConcat.sort_index(level=1).style.apply(fColorRows, axis=1).to_excel('../OOP/oop_outputs/SNc_colored.xlsx', index=False, header=False)"
   ]
  },
  {
   "attachments": {},
   "cell_type": "markdown",
   "id": "719b5348",
   "metadata": {},
   "source": [
    "### 2.2 Difference image"
   ]
  },
  {
   "cell_type": "code",
   "execution_count": null,
   "id": "2f0f5d5b",
   "metadata": {},
   "outputs": [],
   "source": [
    "#simple example of how to use matplotlib\n",
    "img1 = np.array(Image.open(PATH_TO_DATA + 'SpongBobComp1.jpeg')).astype(int)\n",
    "fig, ax = plt.subplots(1,1, figsize=(3,3))\n",
    "_ = ax.set_title('SpongeBob')\n",
    "_ = ax.imshow(img1)"
   ]
  },
  {
   "cell_type": "code",
   "execution_count": null,
   "id": "63cc930e",
   "metadata": {},
   "outputs": [],
   "source": [
    "# load the 2 images\n",
    "img1 = np.array(Image.open(PATH_TO_DATA + 'SpongBobComp1.jpeg')).astype(int)\n",
    "img2 = np.array(Image.open(PATH_TO_DATA + 'SpongBobComp2.jpeg')).astype(int)\n",
    "\n",
    "#create a plot \n",
    "fig, axs = plt.subplots(1,4, figsize=(12,3))\n",
    "\n",
    "#plot img1\n",
    "axs[0].set_title('img1')\n",
    "axs[0].imshow(img1)\n",
    "#plot img2\n",
    "axs[1].set_title('img2')\n",
    "axs[1].imshow(img2)\n",
    "\n",
    "#calc img subtraction and plot\n",
    "imgDif = abs(img1-img2)\n",
    "axs[2].set_title('Difference Image')\n",
    "axs[2].imshow(imgDif)\n",
    "\n",
    "#calc square of dif and plot\n",
    "imgDif2 = (img1-img2)**2\n",
    "axs[3].set_title('Difference Image Squared')\n",
    "axs[3].imshow(imgDif2)\n",
    "\n",
    "for ax in axs:\n",
    "    ax.xaxis.set_ticks([])\n",
    "    ax.yaxis.set_ticks([])"
   ]
  },
  {
   "attachments": {},
   "cell_type": "markdown",
   "id": "ba270420",
   "metadata": {},
   "source": [
    "## 3. Image analysis on MNIST"
   ]
  },
  {
   "cell_type": "code",
   "execution_count": null,
   "id": "84a8e2b1",
   "metadata": {},
   "outputs": [],
   "source": [
    "#Run this cell if you update the MyImageClass.py file\n",
    "#This allows you to reload the MyImageClass script so you don't have to restart the kernel \n",
    "# if you change the code. But don't forget to remake the objects with the updated class!\n",
    "\n",
    "import importlib\n",
    "importlib.reload(myimg)"
   ]
  },
  {
   "attachments": {},
   "cell_type": "markdown",
   "id": "3a2d7963",
   "metadata": {},
   "source": [
    "### 3.1 Load the MNIST dataset"
   ]
  },
  {
   "cell_type": "code",
   "execution_count": null,
   "id": "8b004ad2",
   "metadata": {},
   "outputs": [],
   "source": [
    "_, (arrImg, arrTarget) = tensorflow.keras.datasets.mnist.load_data()\n",
    "arrImg = arrImg/255\n",
    "intNTargets = arrTarget.max()"
   ]
  },
  {
   "attachments": {},
   "cell_type": "markdown",
   "id": "291eed47",
   "metadata": {},
   "source": [
    "### 3.2 create ImgArray objects from the MNIST dataset (one per image)"
   ]
  },
  {
   "cell_type": "code",
   "execution_count": null,
   "id": "2f6bc21d",
   "metadata": {},
   "outputs": [],
   "source": [
    "#create lists of the image target from the data\n",
    "lImg = [myimg.MyImgClass(arrImg, intTarget) for arrImg, intTarget in zip(arrImg, arrTarget)]\n",
    "#create a dict that contains a list of each image class\n",
    "dctImgTarget = {} #update to label\n",
    "for i in range(intNTargets+1):\n",
    "    dctImgTarget[i] = [x for x in lImg if x.intLabel == i]"
   ]
  },
  {
   "attachments": {},
   "cell_type": "markdown",
   "id": "baec01dd",
   "metadata": {},
   "source": [
    "### 3.3 visualize an example of each digit"
   ]
  },
  {
   "cell_type": "code",
   "execution_count": null,
   "id": "9f736acf",
   "metadata": {},
   "outputs": [],
   "source": [
    "# plot the first of each digits\n",
    "fig, axs = plt.subplots(2,5, figsize=(10,4))\n",
    "axs = axs.flatten()\n",
    "for i in range(intNTargets+1):\n",
    "    dctImgTarget[i][1].fPlot(axs[i], imshow_kwargs={'cmap':'gray'})\n",
    "plt.tight_layout()"
   ]
  },
  {
   "attachments": {},
   "cell_type": "markdown",
   "id": "e3b016a8",
   "metadata": {},
   "source": [
    "### 3.4 Create mean and std iamges across all images"
   ]
  },
  {
   "cell_type": "code",
   "execution_count": null,
   "id": "f1c52aba",
   "metadata": {},
   "outputs": [],
   "source": [
    "fig, axs = plt.subplots(1,2, figsize=(8,4))\n",
    "imgAve = myimg.MyImgClass.fComputeMeanAcrossImages(lImg)\n",
    "imgStd = myimg.MyImgClass.fComputeStdAcrossImages(lImg)\n",
    "\n",
    "imgAve.fPlot(axs[0], imshow_kwargs={'cmap':'gray'}, add_colorbar=True)\n",
    "imgStd.fPlot(axs[1], imshow_kwargs={'cmap':'gray'}, add_colorbar=True)\n",
    "plt.tight_layout()"
   ]
  },
  {
   "attachments": {},
   "cell_type": "markdown",
   "id": "62a6e20e",
   "metadata": {},
   "source": [
    "### 3.5 Create mean and std images for each class"
   ]
  },
  {
   "cell_type": "code",
   "execution_count": null,
   "id": "363b309c",
   "metadata": {},
   "outputs": [],
   "source": [
    "#create the average image for each class\n",
    "dctAvgImg = {}\n",
    "dctStdImg = {}\n",
    "for i in range(intNTargets+1):\n",
    "    dctAvgImg[i] = myimg.MyImgClass.fComputeMeanAcrossImages(dctImgTarget[i])\n",
    "    dctStdImg[i] = myimg.MyImgClass.fComputeStdAcrossImages(dctImgTarget[i])"
   ]
  },
  {
   "cell_type": "code",
   "execution_count": null,
   "id": "2c2ebdf2",
   "metadata": {
    "scrolled": false
   },
   "outputs": [],
   "source": [
    "#plot the average for each image\n",
    "fig, axs = plt.subplots(intNTargets+1,2, figsize=(4,2*intNTargets))\n",
    "for intTarget in dctAvgImg.keys():\n",
    "    dctAvgImg[intTarget].fPlot(axs[intTarget,0], \n",
    "                               imshow_kwargs={'cmap':'gray'},\n",
    "                               add_colorbar=True)\n",
    "    dctStdImg[intTarget].fPlot(axs[intTarget,1], \n",
    "                               imshow_kwargs={'cmap':'gray'},\n",
    "                               add_colorbar=True)\n",
    "fig.tight_layout()"
   ]
  },
  {
   "attachments": {},
   "cell_type": "markdown",
   "id": "c8d480e6",
   "metadata": {},
   "source": [
    "### 3.6 Difference images and Mean squared error (MSE)\n",
    "### 3.6.1 difference images and MSE between numbers"
   ]
  },
  {
   "cell_type": "code",
   "execution_count": null,
   "id": "bb803d34",
   "metadata": {},
   "outputs": [],
   "source": [
    "fig, axs = plt.subplots(3,4, figsize=(10,6))\n",
    "\n",
    "### Clac and plot 0 vs same 0 ###\n",
    "#what is the type of imgDifSame?!\n",
    "imgDifSame0v0 = dctImgTarget[0][0].fPixelwiseSqDif(dctImgTarget[0][0])\n",
    "dMSESame0v0 = dctImgTarget[0][0].fMSE(dctImgTarget[0][0])\n",
    "#plot\n",
    "dctImgTarget[0][0].fPlot(axs[0,0], imshow_kwargs={'cmap':'gray','vmin':0,'vmax':1})\n",
    "dctImgTarget[0][0].fPlot(axs[0,1], imshow_kwargs={'cmap':'gray','vmin':0,'vmax':1})\n",
    "imgDifSame0v0.fPlot(axs[0,2], \n",
    "                    imshow_kwargs={'cmap':'viridis','vmin':0,'vmax':1},\n",
    "                    add_colorbar=True)\n",
    "axs[0,3].axis('off')\n",
    "axs[0,3].text(x=.1,y=.5,s=f'MSE: {round(dMSESame0v0,4)}', fontsize=25)\n",
    "\n",
    "\n",
    "### Clac and plot 0 vs different 0 ###\n",
    "imgDif0v0 = dctImgTarget[0][0].fPixelwiseSqDif(dctImgTarget[0][2])\n",
    "dMSE0v0 = dctImgTarget[0][0].fMSE(dctImgTarget[0][2])\n",
    "#plot\n",
    "dctImgTarget[0][0].fPlot(axs[1,0], imshow_kwargs={'cmap':'gray','vmin':0,'vmax':1})\n",
    "dctImgTarget[0][1].fPlot(axs[1,1], imshow_kwargs={'cmap':'gray','vmin':0,'vmax':1})\n",
    "imgDif0v0.fPlot(axs[1,2], \n",
    "                imshow_kwargs={'cmap':'viridis','vmin':0,'vmax':1},\n",
    "                add_colorbar=True)\n",
    "axs[1,3].axis('off')\n",
    "axs[1,3].text(x=.1,y=.5,s=f'MSE: {round(dMSE0v0,4)}', fontsize=25)\n",
    "\n",
    "### Clac and plot 0 vs different 0 ###\n",
    "imgDif1v0 = dctImgTarget[1][0].fPixelwiseSqDif(dctImgTarget[0][0])\n",
    "dMSE1v0 = dctImgTarget[1][0].fMSE(dctImgTarget[0][0])\n",
    "#plot\n",
    "dctImgTarget[1][0].fPlot(axs[2,0], imshow_kwargs={'cmap':'gray','vmin':0,'vmax':1})\n",
    "dctImgTarget[0][0].fPlot(axs[2,1], imshow_kwargs={'cmap':'gray','vmin':0,'vmax':1})\n",
    "imgDif1v0.fPlot(axs[2,2], \n",
    "                imshow_kwargs={'cmap':'viridis','vmin':0,'vmax':1},\n",
    "                add_colorbar=True)\n",
    "axs[2,3].axis('off')\n",
    "axs[2,3].text(x=.1,y=.5,s=f'MSE: {round(dMSE1v0,4)}', fontsize=25)\n",
    "\n",
    "axs[0,0].set_title('Fist image')\n",
    "axs[0,1].set_title('Second image')\n",
    "axs[0,2].set_title('Difference image')\n",
    "\n",
    "axs[0,0].set_ylabel('example 1\\n0 vs same 0')\n",
    "axs[1,0].set_ylabel('example 2\\n0 vs different 0')\n",
    "axs[2,0].set_ylabel('example 3\\n0 vs 1')\n",
    "\n",
    "plt.tight_layout()"
   ]
  },
  {
   "attachments": {},
   "cell_type": "markdown",
   "id": "a560b7f9",
   "metadata": {},
   "source": [
    "###  3.6.2 calcualte the difference between the mean images"
   ]
  },
  {
   "cell_type": "code",
   "execution_count": null,
   "id": "90f7162a",
   "metadata": {},
   "outputs": [],
   "source": [
    "fig, axs = plt.subplots(10,10, figsize=(22,20))\n",
    "for i in range(10):\n",
    "    axs[0,i].set_title(i, fontsize=15)\n",
    "    axs[i,0].set_ylabel(i, rotation=0, fontsize=15, labelpad=15)\n",
    "    for j in range(10):\n",
    "        imgDif = dctAvgImg[i].fPixelwiseSqDif(dctAvgImg[j])\n",
    "        #print(imgDif.arrImg.max())\n",
    "        imgDif.fPlot(axs[i,j], \n",
    "                     imshow_kwargs={'cmap':'viridis', 'vmin':0, 'vmax':.85},\n",
    "                     show_ticks=False)"
   ]
  },
  {
   "attachments": {},
   "cell_type": "markdown",
   "id": "a6537bdc",
   "metadata": {},
   "source": [
    "### 3.6.3 claculate the MSE between the mean images. \n",
    "Note: This is a summary of the above plot where each plot is a sinlge value (mean)!\n",
    "Rather than plot an image, here we create a heatmap to visually display the differences between the mean digit images per class"
   ]
  },
  {
   "cell_type": "code",
   "execution_count": null,
   "id": "c4c97417",
   "metadata": {},
   "outputs": [],
   "source": [
    "#create a numpy array with the MSE between the mean numbers\n",
    "arrMSE = np.empty(shape=(10,10))\n",
    "for i in range(10):\n",
    "    for j in range(10):\n",
    "        arrMSE[i,j] = dctAvgImg[i].fMSE(dctAvgImg[j])"
   ]
  },
  {
   "cell_type": "code",
   "execution_count": null,
   "id": "62cbd914",
   "metadata": {},
   "outputs": [],
   "source": [
    "#plot as heatmap. \n",
    "fig, axs = plt.subplots(1,2, gridspec_kw={'width_ratios':[12,1]})\n",
    "hm = axs[0].imshow(arrMSE)\n",
    "fig.colorbar(hm, axs[1])"
   ]
  },
  {
   "attachments": {},
   "cell_type": "markdown",
   "id": "617230b5",
   "metadata": {},
   "source": [
    "# 4. Can you use the class to compare MRI images?!\n",
    "One common phenotype of Alzheimer's disease is atrophy of the brain. "
   ]
  },
  {
   "attachments": {},
   "cell_type": "markdown",
   "id": "616c4bcc",
   "metadata": {},
   "source": [
    "### 4.1 Load the data"
   ]
  },
  {
   "cell_type": "code",
   "execution_count": null,
   "id": "78a6e188",
   "metadata": {},
   "outputs": [],
   "source": [
    "#use 32x32 small examples\n",
    "dctT1 = np.load(PATH_TO_DATA + 'T1_slice.npz')\n",
    "arrImgLarge = dctT1['images'][:,:,:,0]\n",
    "#we're working with 32 by 32 for this course so let's downsample\n",
    "arrImg = np.stack([skimage.transform.rescale(arr, 1/6, anti_aliasing=False) for arr in arrImgLarge])\n",
    "arrTarget = dctT1['label']"
   ]
  },
  {
   "attachments": {},
   "cell_type": "markdown",
   "id": "125bb94f",
   "metadata": {},
   "source": [
    "### 4.2 organlize the data"
   ]
  },
  {
   "cell_type": "code",
   "execution_count": null,
   "id": "5a689a6f",
   "metadata": {},
   "outputs": [],
   "source": [
    "lT1Img = [myimg.MyImgClass(arrImg,intLabel) for arrImg,intLabel in zip(arrImg, arrTarget)]\n",
    "lT1ImgLarge = [myimg.MyImgClass(arrImg,intLabel) for arrImg,intLabel in zip(arrImgLarge, arrTarget)]\n",
    "lT1ImgCN = [img for img in lT1Img if img.intLabel == 0]\n",
    "lT1ImgAD = [img for img in lT1Img if img.intLabel == 1]"
   ]
  },
  {
   "cell_type": "code",
   "execution_count": null,
   "id": "09b18f91",
   "metadata": {},
   "outputs": [],
   "source": [
    "fig, axs = plt.subplots(1,2, figsize=(9,8))\n",
    "lT1ImgLarge[35].fPlot(ax=axs[0], imshow_kwargs={'cmap':'gray'})\n",
    "lT1Img[35].fPlot(ax=axs[1], imshow_kwargs={'cmap':'gray'})\n",
    "plt.tight_layout()"
   ]
  },
  {
   "attachments": {},
   "cell_type": "markdown",
   "id": "ba45401d",
   "metadata": {},
   "source": [
    "### 4.3 Plot example images of the data"
   ]
  },
  {
   "cell_type": "code",
   "execution_count": null,
   "id": "a144ef75",
   "metadata": {},
   "outputs": [],
   "source": [
    "fig, axs = plt.subplots(1,2, figsize=(9,8))\n",
    "lT1ImgCN[3].fPlot(ax=axs[0], imshow_kwargs={'cmap':'gray'})\n",
    "lT1ImgAD[40].fPlot(ax=axs[1], imshow_kwargs={'cmap':'gray'})\n",
    "plt.tight_layout()"
   ]
  },
  {
   "attachments": {},
   "cell_type": "markdown",
   "id": "372fa36c",
   "metadata": {},
   "source": [
    "## 4.4 Calculate and plot the mean and std images"
   ]
  },
  {
   "cell_type": "code",
   "execution_count": null,
   "id": "5f22fee7",
   "metadata": {},
   "outputs": [],
   "source": [
    "imgCNAve = myimg.MyImgClass.fComputeMeanAcrossImages(lT1ImgCN)\n",
    "imgCNStd = myimg.MyImgClass.fComputeStdAcrossImages(lT1ImgCN)\n",
    "imgADAve = myimg.MyImgClass.fComputeMeanAcrossImages(lT1ImgAD)\n",
    "imgADStd = myimg.MyImgClass.fComputeStdAcrossImages(lT1ImgAD)"
   ]
  },
  {
   "cell_type": "code",
   "execution_count": null,
   "id": "aba254a2",
   "metadata": {},
   "outputs": [],
   "source": [
    "fig, axs = plt.subplots(2,2, figsize=(9,8))\n",
    "imgCNAve.fPlot(axs[0,0], imshow_kwargs={'cmap':'gray'})\n",
    "imgCNStd.fPlot(axs[0,1], imshow_kwargs={'cmap':'gray'})\n",
    "imgADAve.fPlot(axs[1,0], imshow_kwargs={'cmap':'gray'})\n",
    "imgADStd.fPlot(axs[1,1], imshow_kwargs={'cmap':'gray'})\n",
    "axs[0][0].set_ylabel('Mean image')\n",
    "axs[1][0].set_ylabel('Mean image')\n",
    "axs[0][1].set_ylabel('Std image')\n",
    "axs[1][1].set_ylabel('Std image')\n",
    "plt.tight_layout()"
   ]
  },
  {
   "attachments": {},
   "cell_type": "markdown",
   "id": "7e80b3b8",
   "metadata": {},
   "source": [
    "## 4.5 Calcualte and plot the difference image from the two averages"
   ]
  },
  {
   "cell_type": "code",
   "execution_count": null,
   "id": "79a95598",
   "metadata": {},
   "outputs": [],
   "source": [
    "fig, ax = plt.subplots(1,1, figsize=(5,5))\n",
    "arrImgDifOfAve = imgCNAve.fPixelwiseSqDif(imgADAve)\n",
    "arrImgDifOfAve.fPlot(ax, add_colorbar=True)"
   ]
  },
  {
   "attachments": {},
   "cell_type": "markdown",
   "id": "f91e4ecb",
   "metadata": {},
   "source": [
    "## 4.6 Calcaulate and plot pairwise differences an plot"
   ]
  },
  {
   "cell_type": "code",
   "execution_count": null,
   "id": "35ae0f4c",
   "metadata": {},
   "outputs": [],
   "source": [
    "import MyImageClass\n",
    "import importlib\n",
    "importlib.reload(MyImageClass)"
   ]
  },
  {
   "cell_type": "code",
   "execution_count": null,
   "id": "225a053d",
   "metadata": {},
   "outputs": [],
   "source": [
    "#this is pair wise difference, so take ~10 secs\n",
    "lMSDCvC = myimg.MyImgClass.fMSEforEachPairCombination(lT1ImgCN, lT1ImgCN)\n",
    "lMSDCvA = myimg.MyImgClass.fMSEforEachPairCombination(lT1ImgCN, lT1ImgAD)\n",
    "lMSDAvA = myimg.MyImgClass.fMSEforEachPairCombination(lT1ImgAD, lT1ImgAD)"
   ]
  },
  {
   "cell_type": "code",
   "execution_count": null,
   "id": "18df447d",
   "metadata": {},
   "outputs": [],
   "source": [
    "dfMeanPixelwiseSqDif = pd.DataFrame([lMSDCvC, lMSDCvA, lMSDAvA],\n",
    "                    index = ['CN vs CN','CN vs AD', 'AD vs AD']).T"
   ]
  },
  {
   "cell_type": "code",
   "execution_count": null,
   "id": "f9c96d8f",
   "metadata": {},
   "outputs": [],
   "source": [
    "fig, axs = plt.subplots(1,2, figsize=(10,5))\n",
    "_ = sns.boxplot(data=dfMeanPixelwiseSqDif, ax=axs[0])\n",
    "_ = sns.boxplot(data=dfMeanPixelwiseSqDif, ax=axs[1])\n",
    "#_ = sns.swarmplot(data=dfMeanPixelwiseSqDif, ax=axs[0], color='k')#this takes too long to plot\n",
    "axs[0].set_title('Pairwise MSE')\n",
    "axs[0].set_ylim(0,.14)\n",
    "axs[1].set_ylim(.05,.06)\n",
    "plt.tight_layout()"
   ]
  },
  {
   "cell_type": "code",
   "execution_count": null,
   "id": "2f734683",
   "metadata": {},
   "outputs": [],
   "source": [
    "imgADAve.arrImg.shape"
   ]
  },
  {
   "attachments": {},
   "cell_type": "markdown",
   "id": "ff82853a",
   "metadata": {},
   "source": [
    "## 5. Use MSE to compare between reconstructed images \n",
    "* (teaser on auto encoders)\n",
    "    * An autoencoder attempts to recreate the input.\n",
    "* Check our MSE to keras"
   ]
  },
  {
   "attachments": {},
   "cell_type": "markdown",
   "id": "002d8c43",
   "metadata": {},
   "source": [
    "### 5.1 Plot the original and the recon images at different epochs"
   ]
  },
  {
   "cell_type": "code",
   "execution_count": null,
   "id": "17ba5d9d",
   "metadata": {},
   "outputs": [],
   "source": [
    "dfLoss = pd.Series(index = range(1,101))\n",
    "\n",
    "for intEpoch in range(1,101):\n",
    "    \n",
    "    arrReal = np.load(PATH_TO_DATA + f'ad_cvaecgan_simloss/epoch{str(intEpoch).zfill(3)}_real.npy')[:,:,:,0]\n",
    "    arrRecon = np.load(PATH_TO_DATA + f'ad_cvaecgan_simloss/epoch{str(intEpoch).zfill(3)}_recons.npy')[:,:,:,0]\n",
    "    lImgReal = [myimg.MyImgClass(x) for x in arrReal]\n",
    "    lImgRecon = [myimg.MyImgClass(x) for x in arrRecon]\n",
    "    \n",
    "    #loss\n",
    "    lLoss = []\n",
    "    for imgReal, imgRecon in zip(lImgReal, lImgRecon):\n",
    "        lLoss.append(imgReal.fMSE(imgRecon))\n",
    "    #keras takes the mean MSE across images to provide a single loss value, we'll do the same for comparison\n",
    "    dCalcLoss = np.mean(lLoss)\n",
    "    dfLoss.loc[intEpoch] = dCalcLoss\n",
    "    \n",
    "    if intEpoch%10 == 0:\n",
    "        fig, axs = plt.subplots(2,10, figsize=(15,3))\n",
    "        for i in range(lImgReal.__len__()):\n",
    "            lImgReal[i].fPlot(axs[0,i], imshow_kwargs={'cmap':'gray'})\n",
    "            lImgRecon[i].fPlot(axs[1,i], imshow_kwargs={'cmap':'gray'})\n",
    "        _ = axs[0,0].set_ylabel('Input Image')\n",
    "        _ = axs[1,0].set_ylabel('Recon Image')\n",
    "        plt.suptitle(f\"Epoch {intEpoch}\", fontsize=14)\n",
    "\n",
    "        plt.show()"
   ]
  },
  {
   "attachments": {},
   "cell_type": "markdown",
   "id": "b1bf0907",
   "metadata": {},
   "source": [
    "### 5.2 plot the loss per epoch"
   ]
  },
  {
   "cell_type": "code",
   "execution_count": null,
   "id": "aa4827a8",
   "metadata": {},
   "outputs": [],
   "source": [
    "fig,ax = plt.subplots(1,1)\n",
    "sns.lineplot(data=dfLoss, ax=ax)\n",
    "ax.set_title('loss over training')\n",
    "ax.set_ylabel('MSE')\n",
    "ax.set_xlabel('Epoch')"
   ]
  },
  {
   "attachments": {},
   "cell_type": "markdown",
   "id": "316f47a8",
   "metadata": {},
   "source": [
    "### 5.3 Calculate the MSE for the last epoch and compare to the tf.keras function."
   ]
  },
  {
   "cell_type": "code",
   "execution_count": null,
   "id": "3db1d3d1",
   "metadata": {},
   "outputs": [],
   "source": [
    "#calcualte the mean MSE\n",
    "dCalcLoss = myimg.MyImgClass.fMeanMSE(lImgReal, lImgRecon)\n",
    "print(f'MSE: {str(dCalcLoss)[:8]}')"
   ]
  },
  {
   "cell_type": "code",
   "execution_count": null,
   "id": "fe616318",
   "metadata": {},
   "outputs": [],
   "source": [
    "#calc the MSE using TF/keras\n",
    "dKerasLoss = tf.keras.losses.MeanSquaredError()(arrReal, arrRecon).numpy()\n",
    "print(f'keras MSE: {str(dKerasLoss)[:8]}')"
   ]
  },
  {
   "cell_type": "code",
   "execution_count": null,
   "id": "cb1c91c8",
   "metadata": {},
   "outputs": [],
   "source": [
    "#make sure the difference is very small (e.g <1e-6)\n",
    "dCalcLoss-dKerasLoss"
   ]
  },
  {
   "cell_type": "code",
   "execution_count": null,
   "id": "a77309ff",
   "metadata": {},
   "outputs": [],
   "source": []
  }
 ],
 "metadata": {
  "kernelspec": {
   "display_name": "Python 3",
   "language": "python",
   "name": "python3"
  },
  "language_info": {
   "codemirror_mode": {
    "name": "ipython",
    "version": 3
   },
   "file_extension": ".py",
   "mimetype": "text/x-python",
   "name": "python",
   "nbconvert_exporter": "python",
   "pygments_lexer": "ipython3",
   "version": "3.12.10"
  }
 },
 "nbformat": 4,
 "nbformat_minor": 5
}
