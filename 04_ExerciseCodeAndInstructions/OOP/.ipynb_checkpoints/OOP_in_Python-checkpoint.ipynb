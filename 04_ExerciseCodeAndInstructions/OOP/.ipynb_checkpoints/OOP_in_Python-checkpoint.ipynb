{
 "cells": [
  {
   "cell_type": "code",
   "execution_count": null,
   "id": "cbc94970",
   "metadata": {},
   "outputs": [
    {
     "ename": "",
     "evalue": "",
     "output_type": "error",
     "traceback": [
      "\u001b[1;31mFailed to start the Kernel. \n",
      "\u001b[1;31mCommand \"python setup.py egg_info\" failed with error code 1 in /tmp/pip-build-lxngww3q/argon2-cffi-bindings/. \n",
      "\u001b[1;31mView Jupyter <a href='command:jupyter.viewOutput'>log</a> for further details."
     ]
    }
   ],
   "source": [
    "class Person(object):\n",
    "    #constructor\n",
    "    def __init__(self, name, idnumber):\n",
    "            self.name= name\n",
    "            self.idnumber = idnumber\n",
    "            print(f\"inside the Person constructor\")\n",
    "            \n",
    "    def display(self):\n",
    "            print(f\"\\n\")\n",
    "            print(f\"name {self.name}\")\n",
    "            print(f\"idnumber {self.idnumber}\")\n",
    "            print(f\"------\\n\")\n",
    "\n",
    "                  "
   ]
  },
  {
   "cell_type": "code",
   "execution_count": null,
   "id": "13716fb3",
   "metadata": {},
   "outputs": [],
   "source": [
    "# create a person object\n",
    "person1=Person('Rahul', 8543)\n",
    "person2=Person('Bob', 9923)\n",
    "\n",
    "# print the person \n",
    "person1.display()\n",
    "person2.display()"
   ]
  },
  {
   "cell_type": "code",
   "execution_count": null,
   "id": "6bc3f255",
   "metadata": {},
   "outputs": [],
   "source": [
    "# accessing attributes of an object\n",
    "print(f\"person1 name is {person1.name}\")\n",
    "print(f\"person2 name is {person2.name}\")\n",
    "\n",
    "\n"
   ]
  },
  {
   "cell_type": "code",
   "execution_count": null,
   "id": "9bf831ed",
   "metadata": {},
   "outputs": [],
   "source": [
    "# testing equality of objects\n",
    "person1==person2\n"
   ]
  },
  {
   "cell_type": "code",
   "execution_count": null,
   "id": "4df22a10",
   "metadata": {},
   "outputs": [],
   "source": [
    "person3=person1\n"
   ]
  },
  {
   "cell_type": "code",
   "execution_count": null,
   "id": "e0cfcfaa",
   "metadata": {},
   "outputs": [],
   "source": [
    "person1==person3"
   ]
  },
  {
   "cell_type": "code",
   "execution_count": null,
   "id": "8f66d395",
   "metadata": {},
   "outputs": [],
   "source": [
    "person1.run()"
   ]
  },
  {
   "cell_type": "code",
   "execution_count": null,
   "id": "c71f16fc",
   "metadata": {},
   "outputs": [],
   "source": [
    "# class Person(object):\n",
    "#     #constructor\n",
    "#     def __init__(self, name, idnumber):\n",
    "#             self.name= name\n",
    "#             self.idnumber = idnumber\n",
    "#             print(f\"inside the Person constructor\")\n",
    "            \n",
    "#     def display(self):\n",
    "#             print(f\"\\n\")\n",
    "#             print(f\"name {self.name}\")\n",
    "#             print(f\"idnumber {self.idnumber}\")\n",
    "#             print(f\"------\\n\")\n"
   ]
  },
  {
   "cell_type": "code",
   "execution_count": null,
   "id": "de3256c9",
   "metadata": {},
   "outputs": [],
   "source": [
    "# subclassing from Person class\n",
    "class Employee(Person):\n",
    "    def __init__(self, name, idnumber, salary, role):\n",
    "        # invoking the __init__ of the parent class\n",
    "        #super(Employee, self).__init__(name, idnumber)\n",
    "        Person.__init__(self, name, idnumber)\n",
    "        \n",
    "        self.salary = salary\n",
    "        self.role = role\n",
    "        print(f\"inside the Employee constructor\")\n",
    "  \n",
    "    def personDetails(self):\n",
    "        print(f\"Person {self.name} has id {self.idnumber} and salary {self.salary} for their role {self.role}\")\n",
    "    "
   ]
  },
  {
   "cell_type": "code",
   "execution_count": null,
   "id": "6fa9c4b4",
   "metadata": {},
   "outputs": [],
   "source": [
    "e1=Employee(\"Joanna\", 8723, 40000, \"intern\")\n",
    "print(e1)\n",
    "e1.display()\n",
    "e1.personDetails()\n",
    "print(f\"==============\")\n",
    "# define another person object\n",
    "e2=Employee(\"Sam\", 8888, 38000, \"intern\")\n",
    "print(e2)\n",
    "e2.display()\n",
    "e2.personDetails()"
   ]
  },
  {
   "cell_type": "code",
   "execution_count": null,
   "id": "1d62ba4a",
   "metadata": {},
   "outputs": [],
   "source": [
    "class Car():\n",
    "    def __init__(self, strColor, strMake, strModel, strLicPlate):\n",
    "        self.strColor=strColor\n",
    "        self.strMake=strMake\n",
    "        self.strModel=strModel\n",
    "        self.strLicPlate=strLicPlate\n",
    "        \n",
    "    def display(self):\n",
    "        print(f'{self.strColor} {self.strMake} {self.strModel} with license {self.strLicPlate} ')"
   ]
  },
  {
   "cell_type": "code",
   "execution_count": null,
   "id": "57c66b76",
   "metadata": {},
   "outputs": [],
   "source": [
    "car1=Car('red', 'Honda', 'CRV', 'FGT-1090')\n",
    "print(car1)\n",
    "car1.display()"
   ]
  },
  {
   "cell_type": "code",
   "execution_count": null,
   "id": "2c2adfd5",
   "metadata": {},
   "outputs": [],
   "source": [
    "# subclassing from Person class\n",
    "class Employee(Person):\n",
    "    def __init__(self, name:str, idnumber:int, salary:int, role:str, car: Car=None):\n",
    "        # invoking the __init__ of the parent class\n",
    "        #super(Employee, self).__init__(name, idnumber)\n",
    "        Person.__init__(self, name, idnumber)\n",
    "        \n",
    "        self.salary = salary\n",
    "        self.role = role\n",
    "        self.companyCar=car\n",
    "        print(f\"inside the Employee constructor\")\n",
    "  \n",
    "    def personDetails(self):\n",
    "        print(f\"Person {self.name} has id {self.idnumber} and salary {self.salary} for their role {self.role}\",\\\n",
    "             end='')\n",
    "        if self.companyCar == None:\n",
    "            print(' and does not drive a company car')\n",
    "        else:\n",
    "            print(f\" and drives company car \", end='')\n",
    "            self.companyCar.display()\n",
    "    \n",
    "    def addCar(self, car: Car):\n",
    "        self.companyCar=car\n",
    "        \n",
    "    def driveCar(self):      \n",
    "        if self.companyCar == None:\n",
    "            print('Error, employee does not have a company car to drive')\n",
    "        else:\n",
    "            print(f\"Driving company car \",end='')\n",
    "            self.companyCar.display()\n",
    "            \n",
    "        "
   ]
  },
  {
   "cell_type": "code",
   "execution_count": null,
   "id": "06ca2011",
   "metadata": {},
   "outputs": [],
   "source": [
    "e3=Employee('Jane', 9090, 42000, 'resident')\n",
    "e3.personDetails()\n",
    "e3.driveCar()\n",
    "print(\"======\")\n",
    "e3.addCar(car1)\n",
    "e3.personDetails()\n",
    "e3.driveCar()"
   ]
  },
  {
   "cell_type": "code",
   "execution_count": null,
   "id": "cfc45b76",
   "metadata": {},
   "outputs": [],
   "source": []
  },
  {
   "cell_type": "code",
   "execution_count": null,
   "id": "fe20cd1d",
   "metadata": {},
   "outputs": [],
   "source": [
    "e3.addCar(car1)"
   ]
  },
  {
   "cell_type": "code",
   "execution_count": null,
   "id": "f6561b35",
   "metadata": {},
   "outputs": [],
   "source": [
    "e3.personDetails()"
   ]
  },
  {
   "cell_type": "code",
   "execution_count": null,
   "id": "a4b65668",
   "metadata": {},
   "outputs": [],
   "source": [
    "# Illustrate method overriding and polymorpshism\n",
    "class Vehicle:\n",
    "    def drive(self):\n",
    "        print(\"driving, but fuel is undefined.\")\n",
    "        \n",
    "        \n",
    "class FuelCellCar(Vehicle):\n",
    "    def drive(self):\n",
    "        print(\"driving fueled by hydrogen\")\n",
    "        \n",
    "class EVCar(Vehicle):\n",
    "    def drive(self):\n",
    "        print(\"driving fueled by electric charge\")\n",
    "        \n",
    "class CombustionCar(Vehicle):\n",
    "    def drive(self):\n",
    "        print(\"driving fueled by gasoline\")\n",
    "        \n"
   ]
  },
  {
   "cell_type": "code",
   "execution_count": null,
   "id": "d919654c",
   "metadata": {},
   "outputs": [],
   "source": [
    "c0=FuelCellCar()\n",
    "c1=CombustionCar()\n",
    "c2=FuelCellCar()\n",
    "c3=EVCar()\n",
    "listCars=[c0, c1, c2,c3]\n",
    "\n",
    "def driveCars(myList):\n",
    "    for idx, car in enumerate(myList):\n",
    "        print(f\"Car {idx} is \", end='')\n",
    "        car.drive()\n"
   ]
  },
  {
   "cell_type": "code",
   "execution_count": null,
   "id": "2de72526",
   "metadata": {},
   "outputs": [],
   "source": [
    "driveCars(listCars)\n"
   ]
  },
  {
   "cell_type": "code",
   "execution_count": null,
   "id": "678068cb",
   "metadata": {},
   "outputs": [],
   "source": []
  }
 ],
 "metadata": {
  "kernelspec": {
   "display_name": "Python 3.12.10 64-bit",
   "language": "python",
   "name": "python3"
  },
  "language_info": {
   "codemirror_mode": {
    "name": "ipython",
    "version": 3
   },
   "file_extension": ".py",
   "mimetype": "text/x-python",
   "name": "python",
   "nbconvert_exporter": "python",
   "pygments_lexer": "ipython3",
   "version": "3.12.10"
  },
  "vscode": {
   "interpreter": {
    "hash": "ef20b64bc81d7e20e8618c5274cc6277520e7c457af18476ea60399c9ca8c6f6"
   }
  }
 },
 "nbformat": 4,
 "nbformat_minor": 5
}
